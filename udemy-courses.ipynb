{
 "cells": [
  {
   "cell_type": "markdown",
   "id": "16e8f9b8",
   "metadata": {
    "_cell_guid": "b1076dfc-b9ad-4769-8c92-a6c4dae69d19",
    "_uuid": "8f2839f25d086af736a60e9eeb907d3b93b6e0e5",
    "papermill": {
     "duration": 0.014369,
     "end_time": "2023-02-12T23:03:25.751685",
     "exception": false,
     "start_time": "2023-02-12T23:03:25.737316",
     "status": "completed"
    },
    "tags": []
   },
   "source": [
    "![icon](https://th.bing.com/th/id/OIP.c_p8Fa-MeQ6DONik_FuopQHaFw?w=200&h=180&c=7&r=0&o=5&dpr=1.1&pid=1.7)"
   ]
  },
  {
   "cell_type": "code",
   "execution_count": 1,
   "id": "bc044ebe",
   "metadata": {
    "execution": {
     "iopub.execute_input": "2023-02-12T23:03:25.775930Z",
     "iopub.status.busy": "2023-02-12T23:03:25.775156Z",
     "iopub.status.idle": "2023-02-12T23:03:27.157674Z",
     "shell.execute_reply": "2023-02-12T23:03:27.155719Z"
    },
    "papermill": {
     "duration": 1.399914,
     "end_time": "2023-02-12T23:03:27.161528",
     "exception": false,
     "start_time": "2023-02-12T23:03:25.761614",
     "status": "completed"
    },
    "tags": []
   },
   "outputs": [],
   "source": [
    "import numpy as np\n",
    "import pandas as pd\n",
    "import matplotlib.pyplot as plt\n",
    "import seaborn as sns"
   ]
  },
  {
   "cell_type": "code",
   "execution_count": 2,
   "id": "f6999130",
   "metadata": {
    "execution": {
     "iopub.execute_input": "2023-02-12T23:03:27.182208Z",
     "iopub.status.busy": "2023-02-12T23:03:27.181689Z",
     "iopub.status.idle": "2023-02-12T23:03:27.246794Z",
     "shell.execute_reply": "2023-02-12T23:03:27.245192Z"
    },
    "papermill": {
     "duration": 0.079459,
     "end_time": "2023-02-12T23:03:27.249930",
     "exception": false,
     "start_time": "2023-02-12T23:03:27.170471",
     "status": "completed"
    },
    "tags": []
   },
   "outputs": [],
   "source": [
    "df=pd.read_csv('/kaggle/input/udemy-courses-revenue-generation-and-course-anal/Entry Level Project Sheet - 3.1-data-sheet-udemy-courses-web-development.csv')"
   ]
  },
  {
   "cell_type": "markdown",
   "id": "e6d4af98",
   "metadata": {
    "papermill": {
     "duration": 0.008355,
     "end_time": "2023-02-12T23:03:27.267468",
     "exception": false,
     "start_time": "2023-02-12T23:03:27.259113",
     "status": "completed"
    },
    "tags": []
   },
   "source": [
    "### Get some information about data"
   ]
  },
  {
   "cell_type": "code",
   "execution_count": 3,
   "id": "34c21831",
   "metadata": {
    "execution": {
     "iopub.execute_input": "2023-02-12T23:03:27.286992Z",
     "iopub.status.busy": "2023-02-12T23:03:27.286536Z",
     "iopub.status.idle": "2023-02-12T23:03:27.322083Z",
     "shell.execute_reply": "2023-02-12T23:03:27.320447Z"
    },
    "papermill": {
     "duration": 0.049344,
     "end_time": "2023-02-12T23:03:27.325288",
     "exception": false,
     "start_time": "2023-02-12T23:03:27.275944",
     "status": "completed"
    },
    "tags": []
   },
   "outputs": [
    {
     "data": {
      "text/html": [
       "<div>\n",
       "<style scoped>\n",
       "    .dataframe tbody tr th:only-of-type {\n",
       "        vertical-align: middle;\n",
       "    }\n",
       "\n",
       "    .dataframe tbody tr th {\n",
       "        vertical-align: top;\n",
       "    }\n",
       "\n",
       "    .dataframe thead th {\n",
       "        text-align: right;\n",
       "    }\n",
       "</style>\n",
       "<table border=\"1\" class=\"dataframe\">\n",
       "  <thead>\n",
       "    <tr style=\"text-align: right;\">\n",
       "      <th></th>\n",
       "      <th>course_id</th>\n",
       "      <th>course_title</th>\n",
       "      <th>url</th>\n",
       "      <th>price</th>\n",
       "      <th>num_subscribers</th>\n",
       "      <th>num_reviews</th>\n",
       "      <th>num_lectures</th>\n",
       "      <th>level</th>\n",
       "      <th>rating</th>\n",
       "      <th>content_duration</th>\n",
       "      <th>published_timestamp</th>\n",
       "      <th>subject</th>\n",
       "      <th>Date</th>\n",
       "      <th>Free/Paid</th>\n",
       "    </tr>\n",
       "  </thead>\n",
       "  <tbody>\n",
       "    <tr>\n",
       "      <th>0</th>\n",
       "      <td>41295</td>\n",
       "      <td>Learn HTML5 Programming From Scratch</td>\n",
       "      <td>https://www.udemy.com/learn-html5-programming-...</td>\n",
       "      <td>0</td>\n",
       "      <td>268923</td>\n",
       "      <td>8629</td>\n",
       "      <td>45</td>\n",
       "      <td>Beginner Level</td>\n",
       "      <td>0.82</td>\n",
       "      <td>10.5</td>\n",
       "      <td>2013-02-14T07:03:41Z</td>\n",
       "      <td>Web Development</td>\n",
       "      <td>2013-02-14</td>\n",
       "      <td>Free</td>\n",
       "    </tr>\n",
       "    <tr>\n",
       "      <th>1</th>\n",
       "      <td>59014</td>\n",
       "      <td>Coding for Entrepreneurs Basic</td>\n",
       "      <td>https://www.udemy.com/coding-for-entrepreneurs...</td>\n",
       "      <td>0</td>\n",
       "      <td>161029</td>\n",
       "      <td>279</td>\n",
       "      <td>27</td>\n",
       "      <td>Expert Level</td>\n",
       "      <td>0.69</td>\n",
       "      <td>3.5</td>\n",
       "      <td>2013-06-09T15:51:55Z</td>\n",
       "      <td>Web Development</td>\n",
       "      <td>2013-06-09</td>\n",
       "      <td>Free</td>\n",
       "    </tr>\n",
       "    <tr>\n",
       "      <th>2</th>\n",
       "      <td>625204</td>\n",
       "      <td>The Web Developer Bootcamp</td>\n",
       "      <td>https://www.udemy.com/the-web-developer-bootcamp/</td>\n",
       "      <td>200</td>\n",
       "      <td>121584</td>\n",
       "      <td>27445</td>\n",
       "      <td>342</td>\n",
       "      <td>Beginner Level</td>\n",
       "      <td>0.89</td>\n",
       "      <td>43.0</td>\n",
       "      <td>2015-11-02T21:13:27Z</td>\n",
       "      <td>Web Development</td>\n",
       "      <td>2015-11-02</td>\n",
       "      <td>Paid</td>\n",
       "    </tr>\n",
       "    <tr>\n",
       "      <th>3</th>\n",
       "      <td>173548</td>\n",
       "      <td>Build Your First Website in 1 Week with HTML5 ...</td>\n",
       "      <td>https://www.udemy.com/build-your-first-website...</td>\n",
       "      <td>0</td>\n",
       "      <td>120291</td>\n",
       "      <td>5924</td>\n",
       "      <td>30</td>\n",
       "      <td>All Levels</td>\n",
       "      <td>0.78</td>\n",
       "      <td>3.0</td>\n",
       "      <td>2014-04-08T16:21:30Z</td>\n",
       "      <td>Web Development</td>\n",
       "      <td>2014-04-08</td>\n",
       "      <td>Free</td>\n",
       "    </tr>\n",
       "    <tr>\n",
       "      <th>4</th>\n",
       "      <td>764164</td>\n",
       "      <td>The Complete Web Developer Course 2.0</td>\n",
       "      <td>https://www.udemy.com/the-complete-web-develop...</td>\n",
       "      <td>200</td>\n",
       "      <td>114512</td>\n",
       "      <td>22412</td>\n",
       "      <td>304</td>\n",
       "      <td>Beginner Level</td>\n",
       "      <td>0.55</td>\n",
       "      <td>30.5</td>\n",
       "      <td>2016-03-08T22:28:36Z</td>\n",
       "      <td>Web Development</td>\n",
       "      <td>2016-03-08</td>\n",
       "      <td>Paid</td>\n",
       "    </tr>\n",
       "  </tbody>\n",
       "</table>\n",
       "</div>"
      ],
      "text/plain": [
       "   course_id                                       course_title  \\\n",
       "0      41295               Learn HTML5 Programming From Scratch   \n",
       "1      59014                     Coding for Entrepreneurs Basic   \n",
       "2     625204                         The Web Developer Bootcamp   \n",
       "3     173548  Build Your First Website in 1 Week with HTML5 ...   \n",
       "4     764164              The Complete Web Developer Course 2.0   \n",
       "\n",
       "                                                 url  price  num_subscribers  \\\n",
       "0  https://www.udemy.com/learn-html5-programming-...      0           268923   \n",
       "1  https://www.udemy.com/coding-for-entrepreneurs...      0           161029   \n",
       "2  https://www.udemy.com/the-web-developer-bootcamp/    200           121584   \n",
       "3  https://www.udemy.com/build-your-first-website...      0           120291   \n",
       "4  https://www.udemy.com/the-complete-web-develop...    200           114512   \n",
       "\n",
       "   num_reviews  num_lectures           level  rating  content_duration  \\\n",
       "0         8629            45  Beginner Level    0.82              10.5   \n",
       "1          279            27    Expert Level    0.69               3.5   \n",
       "2        27445           342  Beginner Level    0.89              43.0   \n",
       "3         5924            30      All Levels    0.78               3.0   \n",
       "4        22412           304  Beginner Level    0.55              30.5   \n",
       "\n",
       "    published_timestamp          subject        Date Free/Paid  \n",
       "0  2013-02-14T07:03:41Z  Web Development  2013-02-14      Free  \n",
       "1  2013-06-09T15:51:55Z  Web Development  2013-06-09      Free  \n",
       "2  2015-11-02T21:13:27Z  Web Development  2015-11-02      Paid  \n",
       "3  2014-04-08T16:21:30Z  Web Development  2014-04-08      Free  \n",
       "4  2016-03-08T22:28:36Z  Web Development  2016-03-08      Paid  "
      ]
     },
     "execution_count": 3,
     "metadata": {},
     "output_type": "execute_result"
    }
   ],
   "source": [
    "df.head()"
   ]
  },
  {
   "cell_type": "code",
   "execution_count": 4,
   "id": "b3f9912d",
   "metadata": {
    "execution": {
     "iopub.execute_input": "2023-02-12T23:03:27.345366Z",
     "iopub.status.busy": "2023-02-12T23:03:27.344845Z",
     "iopub.status.idle": "2023-02-12T23:03:27.382067Z",
     "shell.execute_reply": "2023-02-12T23:03:27.380687Z"
    },
    "papermill": {
     "duration": 0.050796,
     "end_time": "2023-02-12T23:03:27.384823",
     "exception": false,
     "start_time": "2023-02-12T23:03:27.334027",
     "status": "completed"
    },
    "tags": []
   },
   "outputs": [
    {
     "name": "stdout",
     "output_type": "stream",
     "text": [
      "<class 'pandas.core.frame.DataFrame'>\n",
      "RangeIndex: 3676 entries, 0 to 3675\n",
      "Data columns (total 14 columns):\n",
      " #   Column               Non-Null Count  Dtype  \n",
      "---  ------               --------------  -----  \n",
      " 0   course_id            3676 non-null   int64  \n",
      " 1   course_title         3676 non-null   object \n",
      " 2   url                  3676 non-null   object \n",
      " 3   price                3676 non-null   int64  \n",
      " 4   num_subscribers      3676 non-null   int64  \n",
      " 5   num_reviews          3676 non-null   int64  \n",
      " 6   num_lectures         3676 non-null   int64  \n",
      " 7   level                3676 non-null   object \n",
      " 8   rating               3676 non-null   float64\n",
      " 9   content_duration     3676 non-null   float64\n",
      " 10  published_timestamp  3676 non-null   object \n",
      " 11  subject              3676 non-null   object \n",
      " 12  Date                 3676 non-null   object \n",
      " 13  Free/Paid            3676 non-null   object \n",
      "dtypes: float64(2), int64(5), object(7)\n",
      "memory usage: 402.2+ KB\n"
     ]
    }
   ],
   "source": [
    "df.info()"
   ]
  },
  {
   "cell_type": "code",
   "execution_count": 5,
   "id": "c6a7eea3",
   "metadata": {
    "execution": {
     "iopub.execute_input": "2023-02-12T23:03:27.406046Z",
     "iopub.status.busy": "2023-02-12T23:03:27.405210Z",
     "iopub.status.idle": "2023-02-12T23:03:27.427071Z",
     "shell.execute_reply": "2023-02-12T23:03:27.425670Z"
    },
    "papermill": {
     "duration": 0.036254,
     "end_time": "2023-02-12T23:03:27.429891",
     "exception": false,
     "start_time": "2023-02-12T23:03:27.393637",
     "status": "completed"
    },
    "tags": []
   },
   "outputs": [
    {
     "data": {
      "text/html": [
       "<div>\n",
       "<style scoped>\n",
       "    .dataframe tbody tr th:only-of-type {\n",
       "        vertical-align: middle;\n",
       "    }\n",
       "\n",
       "    .dataframe tbody tr th {\n",
       "        vertical-align: top;\n",
       "    }\n",
       "\n",
       "    .dataframe thead th {\n",
       "        text-align: right;\n",
       "    }\n",
       "</style>\n",
       "<table border=\"1\" class=\"dataframe\">\n",
       "  <thead>\n",
       "    <tr style=\"text-align: right;\">\n",
       "      <th></th>\n",
       "      <th>course_id</th>\n",
       "      <th>course_title</th>\n",
       "      <th>url</th>\n",
       "      <th>price</th>\n",
       "      <th>num_subscribers</th>\n",
       "      <th>num_reviews</th>\n",
       "      <th>num_lectures</th>\n",
       "      <th>level</th>\n",
       "      <th>rating</th>\n",
       "      <th>content_duration</th>\n",
       "      <th>published_timestamp</th>\n",
       "      <th>subject</th>\n",
       "      <th>Date</th>\n",
       "      <th>Free/Paid</th>\n",
       "    </tr>\n",
       "  </thead>\n",
       "  <tbody>\n",
       "    <tr>\n",
       "      <th>2168</th>\n",
       "      <td>347104</td>\n",
       "      <td>Learn to Play the Oboe: Beginner to Pro in Und...</td>\n",
       "      <td>https://www.udemy.com/oboe-a-beginners-guide/</td>\n",
       "      <td>50</td>\n",
       "      <td>500</td>\n",
       "      <td>39</td>\n",
       "      <td>74</td>\n",
       "      <td>Beginner Level</td>\n",
       "      <td>0.07</td>\n",
       "      <td>5.0</td>\n",
       "      <td>2015-01-01T01:25:25Z</td>\n",
       "      <td>Musical Instruments</td>\n",
       "      <td>2015-01-01</td>\n",
       "      <td>Paid</td>\n",
       "    </tr>\n",
       "  </tbody>\n",
       "</table>\n",
       "</div>"
      ],
      "text/plain": [
       "      course_id                                       course_title  \\\n",
       "2168     347104  Learn to Play the Oboe: Beginner to Pro in Und...   \n",
       "\n",
       "                                                url  price  num_subscribers  \\\n",
       "2168  https://www.udemy.com/oboe-a-beginners-guide/     50              500   \n",
       "\n",
       "      num_reviews  num_lectures           level  rating  content_duration  \\\n",
       "2168           39            74  Beginner Level    0.07               5.0   \n",
       "\n",
       "       published_timestamp              subject        Date Free/Paid  \n",
       "2168  2015-01-01T01:25:25Z  Musical Instruments  2015-01-01      Paid  "
      ]
     },
     "execution_count": 5,
     "metadata": {},
     "output_type": "execute_result"
    }
   ],
   "source": [
    "df.sample()"
   ]
  },
  {
   "cell_type": "code",
   "execution_count": 6,
   "id": "9276e207",
   "metadata": {
    "execution": {
     "iopub.execute_input": "2023-02-12T23:03:27.450945Z",
     "iopub.status.busy": "2023-02-12T23:03:27.450186Z",
     "iopub.status.idle": "2023-02-12T23:03:27.490321Z",
     "shell.execute_reply": "2023-02-12T23:03:27.488819Z"
    },
    "papermill": {
     "duration": 0.054208,
     "end_time": "2023-02-12T23:03:27.493113",
     "exception": false,
     "start_time": "2023-02-12T23:03:27.438905",
     "status": "completed"
    },
    "tags": []
   },
   "outputs": [
    {
     "data": {
      "text/html": [
       "<div>\n",
       "<style scoped>\n",
       "    .dataframe tbody tr th:only-of-type {\n",
       "        vertical-align: middle;\n",
       "    }\n",
       "\n",
       "    .dataframe tbody tr th {\n",
       "        vertical-align: top;\n",
       "    }\n",
       "\n",
       "    .dataframe thead th {\n",
       "        text-align: right;\n",
       "    }\n",
       "</style>\n",
       "<table border=\"1\" class=\"dataframe\">\n",
       "  <thead>\n",
       "    <tr style=\"text-align: right;\">\n",
       "      <th></th>\n",
       "      <th>course_id</th>\n",
       "      <th>price</th>\n",
       "      <th>num_subscribers</th>\n",
       "      <th>num_reviews</th>\n",
       "      <th>num_lectures</th>\n",
       "      <th>rating</th>\n",
       "      <th>content_duration</th>\n",
       "    </tr>\n",
       "  </thead>\n",
       "  <tbody>\n",
       "    <tr>\n",
       "      <th>count</th>\n",
       "      <td>3.676000e+03</td>\n",
       "      <td>3676.000000</td>\n",
       "      <td>3676.000000</td>\n",
       "      <td>3676.000000</td>\n",
       "      <td>3676.000000</td>\n",
       "      <td>3676.000000</td>\n",
       "      <td>3676.000000</td>\n",
       "    </tr>\n",
       "    <tr>\n",
       "      <th>mean</th>\n",
       "      <td>6.757535e+05</td>\n",
       "      <td>66.115343</td>\n",
       "      <td>3199.260881</td>\n",
       "      <td>156.309848</td>\n",
       "      <td>40.129761</td>\n",
       "      <td>0.610868</td>\n",
       "      <td>4.096137</td>\n",
       "    </tr>\n",
       "    <tr>\n",
       "      <th>std</th>\n",
       "      <td>3.431304e+05</td>\n",
       "      <td>61.056073</td>\n",
       "      <td>9486.582966</td>\n",
       "      <td>935.674518</td>\n",
       "      <td>50.398507</td>\n",
       "      <td>0.334287</td>\n",
       "      <td>6.054948</td>\n",
       "    </tr>\n",
       "    <tr>\n",
       "      <th>min</th>\n",
       "      <td>8.324000e+03</td>\n",
       "      <td>0.000000</td>\n",
       "      <td>0.000000</td>\n",
       "      <td>0.000000</td>\n",
       "      <td>0.000000</td>\n",
       "      <td>0.000000</td>\n",
       "      <td>0.000000</td>\n",
       "    </tr>\n",
       "    <tr>\n",
       "      <th>25%</th>\n",
       "      <td>4.074740e+05</td>\n",
       "      <td>20.000000</td>\n",
       "      <td>112.000000</td>\n",
       "      <td>4.000000</td>\n",
       "      <td>15.000000</td>\n",
       "      <td>0.280000</td>\n",
       "      <td>1.000000</td>\n",
       "    </tr>\n",
       "    <tr>\n",
       "      <th>50%</th>\n",
       "      <td>6.876920e+05</td>\n",
       "      <td>45.000000</td>\n",
       "      <td>912.500000</td>\n",
       "      <td>18.000000</td>\n",
       "      <td>25.000000</td>\n",
       "      <td>0.760000</td>\n",
       "      <td>2.000000</td>\n",
       "    </tr>\n",
       "    <tr>\n",
       "      <th>75%</th>\n",
       "      <td>9.608140e+05</td>\n",
       "      <td>95.000000</td>\n",
       "      <td>2558.000000</td>\n",
       "      <td>67.000000</td>\n",
       "      <td>46.000000</td>\n",
       "      <td>0.930000</td>\n",
       "      <td>4.500000</td>\n",
       "    </tr>\n",
       "    <tr>\n",
       "      <th>max</th>\n",
       "      <td>1.282064e+06</td>\n",
       "      <td>200.000000</td>\n",
       "      <td>268923.000000</td>\n",
       "      <td>27445.000000</td>\n",
       "      <td>779.000000</td>\n",
       "      <td>1.000000</td>\n",
       "      <td>78.500000</td>\n",
       "    </tr>\n",
       "  </tbody>\n",
       "</table>\n",
       "</div>"
      ],
      "text/plain": [
       "          course_id        price  num_subscribers   num_reviews  num_lectures  \\\n",
       "count  3.676000e+03  3676.000000      3676.000000   3676.000000   3676.000000   \n",
       "mean   6.757535e+05    66.115343      3199.260881    156.309848     40.129761   \n",
       "std    3.431304e+05    61.056073      9486.582966    935.674518     50.398507   \n",
       "min    8.324000e+03     0.000000         0.000000      0.000000      0.000000   \n",
       "25%    4.074740e+05    20.000000       112.000000      4.000000     15.000000   \n",
       "50%    6.876920e+05    45.000000       912.500000     18.000000     25.000000   \n",
       "75%    9.608140e+05    95.000000      2558.000000     67.000000     46.000000   \n",
       "max    1.282064e+06   200.000000    268923.000000  27445.000000    779.000000   \n",
       "\n",
       "            rating  content_duration  \n",
       "count  3676.000000       3676.000000  \n",
       "mean      0.610868          4.096137  \n",
       "std       0.334287          6.054948  \n",
       "min       0.000000          0.000000  \n",
       "25%       0.280000          1.000000  \n",
       "50%       0.760000          2.000000  \n",
       "75%       0.930000          4.500000  \n",
       "max       1.000000         78.500000  "
      ]
     },
     "execution_count": 6,
     "metadata": {},
     "output_type": "execute_result"
    }
   ],
   "source": [
    "df.describe()"
   ]
  },
  {
   "cell_type": "markdown",
   "id": "c610c059",
   "metadata": {
    "execution": {
     "iopub.execute_input": "2023-02-12T19:31:16.262928Z",
     "iopub.status.busy": "2023-02-12T19:31:16.262564Z",
     "iopub.status.idle": "2023-02-12T19:31:16.282955Z",
     "shell.execute_reply": "2023-02-12T19:31:16.281308Z",
     "shell.execute_reply.started": "2023-02-12T19:31:16.262903Z"
    },
    "papermill": {
     "duration": 0.008406,
     "end_time": "2023-02-12T23:03:27.510561",
     "exception": false,
     "start_time": "2023-02-12T23:03:27.502155",
     "status": "completed"
    },
    "tags": []
   },
   "source": [
    "## Cleaning data"
   ]
  },
  {
   "cell_type": "code",
   "execution_count": 7,
   "id": "05540e24",
   "metadata": {
    "execution": {
     "iopub.execute_input": "2023-02-12T23:03:27.532450Z",
     "iopub.status.busy": "2023-02-12T23:03:27.532030Z",
     "iopub.status.idle": "2023-02-12T23:03:27.546439Z",
     "shell.execute_reply": "2023-02-12T23:03:27.545184Z"
    },
    "papermill": {
     "duration": 0.028854,
     "end_time": "2023-02-12T23:03:27.549193",
     "exception": false,
     "start_time": "2023-02-12T23:03:27.520339",
     "status": "completed"
    },
    "tags": []
   },
   "outputs": [
    {
     "data": {
      "text/plain": [
       "course_id              0\n",
       "course_title           0\n",
       "url                    0\n",
       "price                  0\n",
       "num_subscribers        0\n",
       "num_reviews            0\n",
       "num_lectures           0\n",
       "level                  0\n",
       "rating                 0\n",
       "content_duration       0\n",
       "published_timestamp    0\n",
       "subject                0\n",
       "Date                   0\n",
       "Free/Paid              0\n",
       "dtype: int64"
      ]
     },
     "execution_count": 7,
     "metadata": {},
     "output_type": "execute_result"
    }
   ],
   "source": [
    "df.isna().sum()"
   ]
  },
  {
   "cell_type": "code",
   "execution_count": 8,
   "id": "2ff63bfa",
   "metadata": {
    "execution": {
     "iopub.execute_input": "2023-02-12T23:03:27.569920Z",
     "iopub.status.busy": "2023-02-12T23:03:27.569398Z",
     "iopub.status.idle": "2023-02-12T23:03:27.580522Z",
     "shell.execute_reply": "2023-02-12T23:03:27.579270Z"
    },
    "papermill": {
     "duration": 0.02502,
     "end_time": "2023-02-12T23:03:27.583176",
     "exception": false,
     "start_time": "2023-02-12T23:03:27.558156",
     "status": "completed"
    },
    "tags": []
   },
   "outputs": [],
   "source": [
    "df.dropna(inplace=True)"
   ]
  },
  {
   "cell_type": "code",
   "execution_count": 9,
   "id": "05b1dc18",
   "metadata": {
    "execution": {
     "iopub.execute_input": "2023-02-12T23:03:27.603439Z",
     "iopub.status.busy": "2023-02-12T23:03:27.602925Z",
     "iopub.status.idle": "2023-02-12T23:03:27.629533Z",
     "shell.execute_reply": "2023-02-12T23:03:27.628190Z"
    },
    "papermill": {
     "duration": 0.040098,
     "end_time": "2023-02-12T23:03:27.632249",
     "exception": false,
     "start_time": "2023-02-12T23:03:27.592151",
     "status": "completed"
    },
    "tags": []
   },
   "outputs": [
    {
     "data": {
      "text/html": [
       "<div>\n",
       "<style scoped>\n",
       "    .dataframe tbody tr th:only-of-type {\n",
       "        vertical-align: middle;\n",
       "    }\n",
       "\n",
       "    .dataframe tbody tr th {\n",
       "        vertical-align: top;\n",
       "    }\n",
       "\n",
       "    .dataframe thead th {\n",
       "        text-align: right;\n",
       "    }\n",
       "</style>\n",
       "<table border=\"1\" class=\"dataframe\">\n",
       "  <thead>\n",
       "    <tr style=\"text-align: right;\">\n",
       "      <th></th>\n",
       "      <th>course_id</th>\n",
       "      <th>course_title</th>\n",
       "      <th>url</th>\n",
       "      <th>price</th>\n",
       "      <th>num_subscribers</th>\n",
       "      <th>num_reviews</th>\n",
       "      <th>num_lectures</th>\n",
       "      <th>level</th>\n",
       "      <th>rating</th>\n",
       "      <th>content_duration</th>\n",
       "      <th>published_timestamp</th>\n",
       "      <th>subject</th>\n",
       "      <th>Date</th>\n",
       "      <th>Free/Paid</th>\n",
       "    </tr>\n",
       "  </thead>\n",
       "  <tbody>\n",
       "  </tbody>\n",
       "</table>\n",
       "</div>"
      ],
      "text/plain": [
       "Empty DataFrame\n",
       "Columns: [course_id, course_title, url, price, num_subscribers, num_reviews, num_lectures, level, rating, content_duration, published_timestamp, subject, Date, Free/Paid]\n",
       "Index: []"
      ]
     },
     "execution_count": 9,
     "metadata": {},
     "output_type": "execute_result"
    }
   ],
   "source": [
    "df[df.duplicated()]"
   ]
  },
  {
   "cell_type": "code",
   "execution_count": 10,
   "id": "46639c7a",
   "metadata": {
    "execution": {
     "iopub.execute_input": "2023-02-12T23:03:27.653218Z",
     "iopub.status.busy": "2023-02-12T23:03:27.652559Z",
     "iopub.status.idle": "2023-02-12T23:03:27.672073Z",
     "shell.execute_reply": "2023-02-12T23:03:27.670698Z"
    },
    "papermill": {
     "duration": 0.032956,
     "end_time": "2023-02-12T23:03:27.674505",
     "exception": false,
     "start_time": "2023-02-12T23:03:27.641549",
     "status": "completed"
    },
    "tags": []
   },
   "outputs": [
    {
     "data": {
      "text/plain": [
       "0       False\n",
       "1       False\n",
       "2       False\n",
       "3       False\n",
       "4       False\n",
       "        ...  \n",
       "3671    False\n",
       "3672    False\n",
       "3673    False\n",
       "3674    False\n",
       "3675    False\n",
       "Length: 3676, dtype: bool"
      ]
     },
     "execution_count": 10,
     "metadata": {},
     "output_type": "execute_result"
    }
   ],
   "source": [
    "df.duplicated()"
   ]
  },
  {
   "cell_type": "code",
   "execution_count": 11,
   "id": "dc2ca5d4",
   "metadata": {
    "execution": {
     "iopub.execute_input": "2023-02-12T23:03:27.695841Z",
     "iopub.status.busy": "2023-02-12T23:03:27.694564Z",
     "iopub.status.idle": "2023-02-12T23:03:27.709777Z",
     "shell.execute_reply": "2023-02-12T23:03:27.708275Z"
    },
    "papermill": {
     "duration": 0.029511,
     "end_time": "2023-02-12T23:03:27.713203",
     "exception": false,
     "start_time": "2023-02-12T23:03:27.683692",
     "status": "completed"
    },
    "tags": []
   },
   "outputs": [],
   "source": [
    "df.drop_duplicates(inplace=True)"
   ]
  },
  {
   "cell_type": "code",
   "execution_count": 12,
   "id": "59c62617",
   "metadata": {
    "execution": {
     "iopub.execute_input": "2023-02-12T23:03:27.734595Z",
     "iopub.status.busy": "2023-02-12T23:03:27.734087Z",
     "iopub.status.idle": "2023-02-12T23:03:27.741975Z",
     "shell.execute_reply": "2023-02-12T23:03:27.740922Z"
    },
    "papermill": {
     "duration": 0.021787,
     "end_time": "2023-02-12T23:03:27.744364",
     "exception": false,
     "start_time": "2023-02-12T23:03:27.722577",
     "status": "completed"
    },
    "tags": []
   },
   "outputs": [],
   "source": [
    "df.drop('url',axis=1,inplace=True)"
   ]
  },
  {
   "cell_type": "markdown",
   "id": "60b876d5",
   "metadata": {
    "papermill": {
     "duration": 0.008954,
     "end_time": "2023-02-12T23:03:27.763539",
     "exception": false,
     "start_time": "2023-02-12T23:03:27.754585",
     "status": "completed"
    },
    "tags": []
   },
   "source": [
    "### Convert object to date\n",
    "#### convert data that on left and but it in the main column"
   ]
  },
  {
   "cell_type": "code",
   "execution_count": 13,
   "id": "ca1ae14c",
   "metadata": {
    "execution": {
     "iopub.execute_input": "2023-02-12T23:03:27.785438Z",
     "iopub.status.busy": "2023-02-12T23:03:27.784905Z",
     "iopub.status.idle": "2023-02-12T23:03:27.800251Z",
     "shell.execute_reply": "2023-02-12T23:03:27.798244Z"
    },
    "papermill": {
     "duration": 0.029892,
     "end_time": "2023-02-12T23:03:27.803353",
     "exception": false,
     "start_time": "2023-02-12T23:03:27.773461",
     "status": "completed"
    },
    "tags": []
   },
   "outputs": [],
   "source": [
    " df ['published_timestamp'] = pd.to_datetime(df ['published_timestamp']).dt.date"
   ]
  },
  {
   "cell_type": "code",
   "execution_count": 14,
   "id": "9694306a",
   "metadata": {
    "execution": {
     "iopub.execute_input": "2023-02-12T23:03:27.825258Z",
     "iopub.status.busy": "2023-02-12T23:03:27.824698Z",
     "iopub.status.idle": "2023-02-12T23:03:27.832040Z",
     "shell.execute_reply": "2023-02-12T23:03:27.830870Z"
    },
    "papermill": {
     "duration": 0.021183,
     "end_time": "2023-02-12T23:03:27.834475",
     "exception": false,
     "start_time": "2023-02-12T23:03:27.813292",
     "status": "completed"
    },
    "tags": []
   },
   "outputs": [],
   "source": [
    "df.drop('course_id',axis=1,inplace=True)"
   ]
  },
  {
   "cell_type": "code",
   "execution_count": 15,
   "id": "029c4524",
   "metadata": {
    "execution": {
     "iopub.execute_input": "2023-02-12T23:03:27.855845Z",
     "iopub.status.busy": "2023-02-12T23:03:27.855171Z",
     "iopub.status.idle": "2023-02-12T23:03:27.873129Z",
     "shell.execute_reply": "2023-02-12T23:03:27.872185Z"
    },
    "papermill": {
     "duration": 0.031393,
     "end_time": "2023-02-12T23:03:27.875327",
     "exception": false,
     "start_time": "2023-02-12T23:03:27.843934",
     "status": "completed"
    },
    "tags": []
   },
   "outputs": [
    {
     "data": {
      "text/html": [
       "<div>\n",
       "<style scoped>\n",
       "    .dataframe tbody tr th:only-of-type {\n",
       "        vertical-align: middle;\n",
       "    }\n",
       "\n",
       "    .dataframe tbody tr th {\n",
       "        vertical-align: top;\n",
       "    }\n",
       "\n",
       "    .dataframe thead th {\n",
       "        text-align: right;\n",
       "    }\n",
       "</style>\n",
       "<table border=\"1\" class=\"dataframe\">\n",
       "  <thead>\n",
       "    <tr style=\"text-align: right;\">\n",
       "      <th></th>\n",
       "      <th>course_title</th>\n",
       "      <th>price</th>\n",
       "      <th>num_subscribers</th>\n",
       "      <th>num_reviews</th>\n",
       "      <th>num_lectures</th>\n",
       "      <th>level</th>\n",
       "      <th>rating</th>\n",
       "      <th>content_duration</th>\n",
       "      <th>published_timestamp</th>\n",
       "      <th>subject</th>\n",
       "      <th>Date</th>\n",
       "      <th>Free/Paid</th>\n",
       "    </tr>\n",
       "  </thead>\n",
       "  <tbody>\n",
       "    <tr>\n",
       "      <th>0</th>\n",
       "      <td>Learn HTML5 Programming From Scratch</td>\n",
       "      <td>0</td>\n",
       "      <td>268923</td>\n",
       "      <td>8629</td>\n",
       "      <td>45</td>\n",
       "      <td>Beginner Level</td>\n",
       "      <td>0.82</td>\n",
       "      <td>10.5</td>\n",
       "      <td>2013-02-14</td>\n",
       "      <td>Web Development</td>\n",
       "      <td>2013-02-14</td>\n",
       "      <td>Free</td>\n",
       "    </tr>\n",
       "    <tr>\n",
       "      <th>1</th>\n",
       "      <td>Coding for Entrepreneurs Basic</td>\n",
       "      <td>0</td>\n",
       "      <td>161029</td>\n",
       "      <td>279</td>\n",
       "      <td>27</td>\n",
       "      <td>Expert Level</td>\n",
       "      <td>0.69</td>\n",
       "      <td>3.5</td>\n",
       "      <td>2013-06-09</td>\n",
       "      <td>Web Development</td>\n",
       "      <td>2013-06-09</td>\n",
       "      <td>Free</td>\n",
       "    </tr>\n",
       "    <tr>\n",
       "      <th>2</th>\n",
       "      <td>The Web Developer Bootcamp</td>\n",
       "      <td>200</td>\n",
       "      <td>121584</td>\n",
       "      <td>27445</td>\n",
       "      <td>342</td>\n",
       "      <td>Beginner Level</td>\n",
       "      <td>0.89</td>\n",
       "      <td>43.0</td>\n",
       "      <td>2015-11-02</td>\n",
       "      <td>Web Development</td>\n",
       "      <td>2015-11-02</td>\n",
       "      <td>Paid</td>\n",
       "    </tr>\n",
       "    <tr>\n",
       "      <th>3</th>\n",
       "      <td>Build Your First Website in 1 Week with HTML5 ...</td>\n",
       "      <td>0</td>\n",
       "      <td>120291</td>\n",
       "      <td>5924</td>\n",
       "      <td>30</td>\n",
       "      <td>All Levels</td>\n",
       "      <td>0.78</td>\n",
       "      <td>3.0</td>\n",
       "      <td>2014-04-08</td>\n",
       "      <td>Web Development</td>\n",
       "      <td>2014-04-08</td>\n",
       "      <td>Free</td>\n",
       "    </tr>\n",
       "    <tr>\n",
       "      <th>4</th>\n",
       "      <td>The Complete Web Developer Course 2.0</td>\n",
       "      <td>200</td>\n",
       "      <td>114512</td>\n",
       "      <td>22412</td>\n",
       "      <td>304</td>\n",
       "      <td>Beginner Level</td>\n",
       "      <td>0.55</td>\n",
       "      <td>30.5</td>\n",
       "      <td>2016-03-08</td>\n",
       "      <td>Web Development</td>\n",
       "      <td>2016-03-08</td>\n",
       "      <td>Paid</td>\n",
       "    </tr>\n",
       "  </tbody>\n",
       "</table>\n",
       "</div>"
      ],
      "text/plain": [
       "                                        course_title  price  num_subscribers  \\\n",
       "0               Learn HTML5 Programming From Scratch      0           268923   \n",
       "1                     Coding for Entrepreneurs Basic      0           161029   \n",
       "2                         The Web Developer Bootcamp    200           121584   \n",
       "3  Build Your First Website in 1 Week with HTML5 ...      0           120291   \n",
       "4              The Complete Web Developer Course 2.0    200           114512   \n",
       "\n",
       "   num_reviews  num_lectures           level  rating  content_duration  \\\n",
       "0         8629            45  Beginner Level    0.82              10.5   \n",
       "1          279            27    Expert Level    0.69               3.5   \n",
       "2        27445           342  Beginner Level    0.89              43.0   \n",
       "3         5924            30      All Levels    0.78               3.0   \n",
       "4        22412           304  Beginner Level    0.55              30.5   \n",
       "\n",
       "  published_timestamp          subject        Date Free/Paid  \n",
       "0          2013-02-14  Web Development  2013-02-14      Free  \n",
       "1          2013-06-09  Web Development  2013-06-09      Free  \n",
       "2          2015-11-02  Web Development  2015-11-02      Paid  \n",
       "3          2014-04-08  Web Development  2014-04-08      Free  \n",
       "4          2016-03-08  Web Development  2016-03-08      Paid  "
      ]
     },
     "execution_count": 15,
     "metadata": {},
     "output_type": "execute_result"
    }
   ],
   "source": [
    "df.head()"
   ]
  },
  {
   "cell_type": "markdown",
   "id": "b21ebaeb",
   "metadata": {
    "papermill": {
     "duration": 0.009275,
     "end_time": "2023-02-12T23:03:27.894333",
     "exception": false,
     "start_time": "2023-02-12T23:03:27.885058",
     "status": "completed"
    },
    "tags": []
   },
   "source": [
    "____________\n",
    "## visualize \n",
    "* ### we will start with categorcal data\n",
    "* ### find relation between columns"
   ]
  },
  {
   "cell_type": "code",
   "execution_count": 16,
   "id": "e8260d3c",
   "metadata": {
    "execution": {
     "iopub.execute_input": "2023-02-12T23:03:27.916976Z",
     "iopub.status.busy": "2023-02-12T23:03:27.916274Z",
     "iopub.status.idle": "2023-02-12T23:03:28.152554Z",
     "shell.execute_reply": "2023-02-12T23:03:28.151250Z"
    },
    "papermill": {
     "duration": 0.25182,
     "end_time": "2023-02-12T23:03:28.155729",
     "exception": false,
     "start_time": "2023-02-12T23:03:27.903909",
     "status": "completed"
    },
    "tags": []
   },
   "outputs": [
    {
     "data": {
      "text/plain": [
       "Text(0.5, 1.0, 'paid vs free courses')"
      ]
     },
     "execution_count": 16,
     "metadata": {},
     "output_type": "execute_result"
    },
    {
     "data": {
      "image/png": "[encoded data removed]",
      "text/plain": [
       "<Figure size 432x288 with 1 Axes>"
      ]
     },
     "metadata": {
      "needs_background": "light"
     },
     "output_type": "display_data"
    }
   ],
   "source": [
    "sns.countplot(x='Free/Paid',data=df,palette=\"terrain_r\")\n",
    "plt.title('paid vs free courses')"
   ]
  },
  {
   "cell_type": "code",
   "execution_count": 17,
   "id": "74e857d8",
   "metadata": {
    "execution": {
     "iopub.execute_input": "2023-02-12T23:03:28.178123Z",
     "iopub.status.busy": "2023-02-12T23:03:28.177623Z",
     "iopub.status.idle": "2023-02-12T23:03:28.188281Z",
     "shell.execute_reply": "2023-02-12T23:03:28.186680Z"
    },
    "papermill": {
     "duration": 0.025727,
     "end_time": "2023-02-12T23:03:28.191657",
     "exception": false,
     "start_time": "2023-02-12T23:03:28.165930",
     "status": "completed"
    },
    "tags": []
   },
   "outputs": [
    {
     "data": {
      "text/plain": [
       "Paid    3365\n",
       "Free     311\n",
       "Name: Free/Paid, dtype: int64"
      ]
     },
     "execution_count": 17,
     "metadata": {},
     "output_type": "execute_result"
    }
   ],
   "source": [
    "df['Free/Paid'].value_counts()"
   ]
  },
  {
   "cell_type": "code",
   "execution_count": 18,
   "id": "d4b578c2",
   "metadata": {
    "execution": {
     "iopub.execute_input": "2023-02-12T23:03:28.215799Z",
     "iopub.status.busy": "2023-02-12T23:03:28.215345Z",
     "iopub.status.idle": "2023-02-12T23:03:28.436527Z",
     "shell.execute_reply": "2023-02-12T23:03:28.435027Z"
    },
    "papermill": {
     "duration": 0.2371,
     "end_time": "2023-02-12T23:03:28.439515",
     "exception": false,
     "start_time": "2023-02-12T23:03:28.202415",
     "status": "completed"
    },
    "tags": []
   },
   "outputs": [
    {
     "name": "stderr",
     "output_type": "stream",
     "text": [
      "/opt/conda/lib/python3.7/site-packages/seaborn/_decorators.py:43: FutureWarning: Pass the following variable as a keyword arg: x. From version 0.12, the only valid positional argument will be `data`, and passing other arguments without an explicit keyword will result in an error or misinterpretation.\n",
      "  FutureWarning\n"
     ]
    },
    {
     "data": {
      "text/plain": [
       "Text(0.5, 1.0, 'Comparison between levels')"
      ]
     },
     "execution_count": 18,
     "metadata": {},
     "output_type": "execute_result"
    },
    {
     "data": {
      "image/png": "[encoded data removed]",
      "text/plain": [
       "<Figure size 432x288 with 1 Axes>"
      ]
     },
     "metadata": {
      "needs_background": "light"
     },
     "output_type": "display_data"
    }
   ],
   "source": [
    "#plt.figure(figsize=(6,5))\n",
    "sns.countplot('level',data=df,palette=\"terrain_r\")\n",
    "plt.title('Comparison between levels')"
   ]
  },
  {
   "cell_type": "code",
   "execution_count": 19,
   "id": "c5c54c05",
   "metadata": {
    "execution": {
     "iopub.execute_input": "2023-02-12T23:03:28.464028Z",
     "iopub.status.busy": "2023-02-12T23:03:28.463491Z",
     "iopub.status.idle": "2023-02-12T23:03:28.619730Z",
     "shell.execute_reply": "2023-02-12T23:03:28.618086Z"
    },
    "papermill": {
     "duration": 0.173083,
     "end_time": "2023-02-12T23:03:28.623785",
     "exception": false,
     "start_time": "2023-02-12T23:03:28.450702",
     "status": "completed"
    },
    "tags": []
   },
   "outputs": [
    {
     "name": "stderr",
     "output_type": "stream",
     "text": [
      "/opt/conda/lib/python3.7/site-packages/seaborn/_decorators.py:43: FutureWarning: Pass the following variable as a keyword arg: x. From version 0.12, the only valid positional argument will be `data`, and passing other arguments without an explicit keyword will result in an error or misinterpretation.\n",
      "  FutureWarning\n"
     ]
    },
    {
     "data": {
      "text/plain": [
       "<AxesSubplot:xlabel='subject', ylabel='count'>"
      ]
     },
     "execution_count": 19,
     "metadata": {},
     "output_type": "execute_result"
    },
    {
     "data": {
      "image/png": "[encoded data removed]",
      "text/plain": [
       "<Figure size 720x360 with 1 Axes>"
      ]
     },
     "metadata": {
      "needs_background": "light"
     },
     "output_type": "display_data"
    }
   ],
   "source": [
    "plt.figure(figsize=(10,5))\n",
    "sns.countplot('subject',data=df,palette=\"terrain_r\")"
   ]
  },
  {
   "cell_type": "code",
   "execution_count": 20,
   "id": "f08c7d30",
   "metadata": {
    "execution": {
     "iopub.execute_input": "2023-02-12T23:03:28.649735Z",
     "iopub.status.busy": "2023-02-12T23:03:28.649233Z",
     "iopub.status.idle": "2023-02-12T23:03:28.660221Z",
     "shell.execute_reply": "2023-02-12T23:03:28.658124Z"
    },
    "papermill": {
     "duration": 0.028151,
     "end_time": "2023-02-12T23:03:28.663571",
     "exception": false,
     "start_time": "2023-02-12T23:03:28.635420",
     "status": "completed"
    },
    "tags": []
   },
   "outputs": [
    {
     "data": {
      "text/plain": [
       "Web Development        1203\n",
       "Business Finance       1191\n",
       "Musical Instruments     680\n",
       "Graphic Design          602\n",
       "Name: subject, dtype: int64"
      ]
     },
     "execution_count": 20,
     "metadata": {},
     "output_type": "execute_result"
    }
   ],
   "source": [
    "df['subject'].value_counts()"
   ]
  },
  {
   "cell_type": "markdown",
   "id": "2a79703d",
   "metadata": {
    "papermill": {
     "duration": 0.01181,
     "end_time": "2023-02-12T23:03:28.686998",
     "exception": false,
     "start_time": "2023-02-12T23:03:28.675188",
     "status": "completed"
    },
    "tags": []
   },
   "source": [
    "### ---> most requirment in courses is Web Development and Business Finance"
   ]
  },
  {
   "cell_type": "code",
   "execution_count": 21,
   "id": "d8a94f04",
   "metadata": {
    "execution": {
     "iopub.execute_input": "2023-02-12T23:03:28.714351Z",
     "iopub.status.busy": "2023-02-12T23:03:28.713837Z",
     "iopub.status.idle": "2023-02-12T23:03:29.111852Z",
     "shell.execute_reply": "2023-02-12T23:03:29.110541Z"
    },
    "papermill": {
     "duration": 0.416723,
     "end_time": "2023-02-12T23:03:29.115571",
     "exception": false,
     "start_time": "2023-02-12T23:03:28.698848",
     "status": "completed"
    },
    "tags": []
   },
   "outputs": [
    {
     "data": {
      "text/plain": [
       "<AxesSubplot:>"
      ]
     },
     "execution_count": 21,
     "metadata": {},
     "output_type": "execute_result"
    },
    {
     "data": {
      "image/png": "[encoded data removed]",
      "text/plain": [
       "<Figure size 576x432 with 2 Axes>"
      ]
     },
     "metadata": {
      "needs_background": "light"
     },
     "output_type": "display_data"
    }
   ],
   "source": [
    "#corr=corrilation in math like relation if it was negative that mean Reverse\n",
    "#if was possitive that mean Expel\n",
    "plt.figure(figsize=(8,6))\n",
    "sns.heatmap(df.corr(),annot=True)\n"
   ]
  },
  {
   "cell_type": "markdown",
   "id": "9b04e16c",
   "metadata": {
    "papermill": {
     "duration": 0.012246,
     "end_time": "2023-02-12T23:03:29.141591",
     "exception": false,
     "start_time": "2023-02-12T23:03:29.129345",
     "status": "completed"
    },
    "tags": []
   },
   "source": [
    "### subscriber vs price"
   ]
  },
  {
   "cell_type": "code",
   "execution_count": 22,
   "id": "0f8ef14b",
   "metadata": {
    "execution": {
     "iopub.execute_input": "2023-02-12T23:03:29.168882Z",
     "iopub.status.busy": "2023-02-12T23:03:29.167944Z",
     "iopub.status.idle": "2023-02-12T23:03:29.757593Z",
     "shell.execute_reply": "2023-02-12T23:03:29.756407Z"
    },
    "papermill": {
     "duration": 0.606616,
     "end_time": "2023-02-12T23:03:29.760527",
     "exception": false,
     "start_time": "2023-02-12T23:03:29.153911",
     "status": "completed"
    },
    "tags": []
   },
   "outputs": [
    {
     "data": {
      "text/plain": [
       "<AxesSubplot:xlabel='price', ylabel='num_subscribers'>"
      ]
     },
     "execution_count": 22,
     "metadata": {},
     "output_type": "execute_result"
    },
    {
     "data": {
      "image/png": "[encoded data removed]",
      "text/plain": [
       "<Figure size 576x432 with 1 Axes>"
      ]
     },
     "metadata": {
      "needs_background": "light"
     },
     "output_type": "display_data"
    }
   ],
   "source": [
    "plt.figure(figsize=(8,6))\n",
    "sns.regplot(x='price',y='num_subscribers',data=df)"
   ]
  },
  {
   "cell_type": "code",
   "execution_count": 23,
   "id": "1d5c69e8",
   "metadata": {
    "execution": {
     "iopub.execute_input": "2023-02-12T23:03:29.789079Z",
     "iopub.status.busy": "2023-02-12T23:03:29.787896Z",
     "iopub.status.idle": "2023-02-12T23:03:30.363222Z",
     "shell.execute_reply": "2023-02-12T23:03:30.361724Z"
    },
    "papermill": {
     "duration": 0.592562,
     "end_time": "2023-02-12T23:03:30.366070",
     "exception": false,
     "start_time": "2023-02-12T23:03:29.773508",
     "status": "completed"
    },
    "tags": []
   },
   "outputs": [
    {
     "data": {
      "text/plain": [
       "<AxesSubplot:xlabel='price', ylabel='num_reviews'>"
      ]
     },
     "execution_count": 23,
     "metadata": {},
     "output_type": "execute_result"
    },
    {
     "data": {
      "image/png": "[encoded data removed]",
      "text/plain": [
       "<Figure size 576x432 with 1 Axes>"
      ]
     },
     "metadata": {
      "needs_background": "light"
     },
     "output_type": "display_data"
    }
   ],
   "source": [
    "#num_reviews vs price\n",
    "plt.figure(figsize=(8,6))\n",
    "sns.regplot(x='price',y='num_reviews',data=df)"
   ]
  },
  {
   "cell_type": "code",
   "execution_count": 24,
   "id": "d3bcd37a",
   "metadata": {
    "execution": {
     "iopub.execute_input": "2023-02-12T23:03:30.394940Z",
     "iopub.status.busy": "2023-02-12T23:03:30.394519Z",
     "iopub.status.idle": "2023-02-12T23:03:30.980320Z",
     "shell.execute_reply": "2023-02-12T23:03:30.979020Z"
    },
    "papermill": {
     "duration": 0.603906,
     "end_time": "2023-02-12T23:03:30.983536",
     "exception": false,
     "start_time": "2023-02-12T23:03:30.379630",
     "status": "completed"
    },
    "tags": []
   },
   "outputs": [
    {
     "data": {
      "text/plain": [
       "<AxesSubplot:xlabel='price', ylabel='content_duration'>"
      ]
     },
     "execution_count": 24,
     "metadata": {},
     "output_type": "execute_result"
    },
    {
     "data": {
      "image/png": "[encoded data removed]",
      "text/plain": [
       "<Figure size 576x432 with 1 Axes>"
      ]
     },
     "metadata": {
      "needs_background": "light"
     },
     "output_type": "display_data"
    }
   ],
   "source": [
    "plt.figure(figsize=(8,6))\n",
    "sns.regplot(x='price',y='content_duration',data=df)"
   ]
  },
  {
   "cell_type": "markdown",
   "id": "aa77d600",
   "metadata": {
    "papermill": {
     "duration": 0.013213,
     "end_time": "2023-02-12T23:03:31.010825",
     "exception": false,
     "start_time": "2023-02-12T23:03:30.997612",
     "status": "completed"
    },
    "tags": []
   },
   "source": []
  },
  {
   "cell_type": "code",
   "execution_count": 25,
   "id": "021431bb",
   "metadata": {
    "execution": {
     "iopub.execute_input": "2023-02-12T23:03:31.039777Z",
     "iopub.status.busy": "2023-02-12T23:03:31.039374Z",
     "iopub.status.idle": "2023-02-12T23:03:31.549590Z",
     "shell.execute_reply": "2023-02-12T23:03:31.548303Z"
    },
    "papermill": {
     "duration": 0.52819,
     "end_time": "2023-02-12T23:03:31.552494",
     "exception": false,
     "start_time": "2023-02-12T23:03:31.024304",
     "status": "completed"
    },
    "tags": []
   },
   "outputs": [
    {
     "data": {
      "text/plain": [
       "<AxesSubplot:xlabel='num_subscribers', ylabel='content_duration'>"
      ]
     },
     "execution_count": 25,
     "metadata": {},
     "output_type": "execute_result"
    },
    {
     "data": {
      "image/png": "[encoded data removed]",
      "text/plain": [
       "<Figure size 576x432 with 1 Axes>"
      ]
     },
     "metadata": {
      "needs_background": "light"
     },
     "output_type": "display_data"
    }
   ],
   "source": [
    "plt.figure(figsize=(8,6))\n",
    "sns.regplot(x='num_subscribers',y='content_duration',data=df)"
   ]
  },
  {
   "cell_type": "markdown",
   "id": "8a8f83e9",
   "metadata": {
    "papermill": {
     "duration": 0.014102,
     "end_time": "2023-02-12T23:03:31.581172",
     "exception": false,
     "start_time": "2023-02-12T23:03:31.567070",
     "status": "completed"
    },
    "tags": []
   },
   "source": [
    "### --> contenent duration leads to more subscribers"
   ]
  },
  {
   "cell_type": "markdown",
   "id": "2e87f884",
   "metadata": {
    "papermill": {
     "duration": 0.014538,
     "end_time": "2023-02-12T23:03:31.610578",
     "exception": false,
     "start_time": "2023-02-12T23:03:31.596040",
     "status": "completed"
    },
    "tags": []
   },
   "source": [
    "# Conclusions\n",
    "#### most of the courses paid\n",
    "#### most of the courses is for all levels or biginner level\n",
    "#### price didn't affect on num_reviews\n",
    "#### subsccriber didn't effict on price\n",
    "#### content_duration may affect on price"
   ]
  },
  {
   "cell_type": "markdown",
   "id": "7811191f",
   "metadata": {
    "papermill": {
     "duration": 0.014809,
     "end_time": "2023-02-12T23:03:31.640114",
     "exception": false,
     "start_time": "2023-02-12T23:03:31.625305",
     "status": "completed"
    },
    "tags": []
   },
   "source": [
    "### "
   ]
  }
 ],
 "metadata": {
  "kernelspec": {
   "display_name": "Python 3",
   "language": "python",
   "name": "python3"
  },
  "language_info": {
   "codemirror_mode": {
    "name": "ipython",
    "version": 3
   },
   "file_extension": ".py",
   "mimetype": "text/x-python",
   "name": "python",
   "nbconvert_exporter": "python",
   "pygments_lexer": "ipython3",
   "version": "3.7.12"
  },
  "papermill": {
   "default_parameters": {},
   "duration": 17.715192,
   "end_time": "2023-02-12T23:03:32.681924",
   "environment_variables": {},
   "exception": null,
   "input_path": "__notebook__.ipynb",
   "output_path": "__notebook__.ipynb",
   "parameters": {},
   "start_time": "2023-02-12T23:03:14.966732",
   "version": "2.3.4"
  }
 },
 "nbformat": 4,
 "nbformat_minor": 5
}
